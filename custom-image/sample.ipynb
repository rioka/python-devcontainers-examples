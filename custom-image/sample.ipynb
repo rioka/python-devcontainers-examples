{
 "cells": [
  {
   "cell_type": "markdown",
   "id": "0eb5df4e",
   "metadata": {},
   "source": [
    "This is a sample notebook\n",
    "\n",
    "Nothing particularly fancy here, just playing around to understand how it works"
   ]
  },
  {
   "cell_type": "code",
   "execution_count": 11,
   "id": "db8e1e41",
   "metadata": {},
   "outputs": [
    {
     "name": "stdout",
     "output_type": "stream",
     "text": [
      "values has 3 items: 1, 2, 3\n",
      "values has 3 items:  [1, 2, 3]\n"
     ]
    }
   ],
   "source": [
    "values = [1, 2, 3]\n",
    "\n",
    "print(f'values has {len(values)} items: {', '.join(str(v) for v in values)}')\n",
    "# same thing, but using f-string formatting\n",
    "print(f'values has {len(values)} items: ', values)"
   ]
  }
 ],
 "metadata": {
  "kernelspec": {
   "display_name": "Python 3",
   "language": "python",
   "name": "python3"
  },
  "language_info": {
   "codemirror_mode": {
    "name": "ipython",
    "version": 3
   },
   "file_extension": ".py",
   "mimetype": "text/x-python",
   "name": "python",
   "nbconvert_exporter": "python",
   "pygments_lexer": "ipython3",
   "version": "3.13.7"
  }
 },
 "nbformat": 4,
 "nbformat_minor": 5
}
